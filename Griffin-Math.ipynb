{
  "nbformat": 4,
  "nbformat_minor": 0,
  "metadata": {
    "colab": {
      "name": "Untitled2.ipynb",
      "provenance": [],
      "authorship_tag": "ABX9TyPWXMv+ofX/shQ9uBZOGqPY",
      "include_colab_link": true
    },
    "kernelspec": {
      "name": "python3",
      "display_name": "Python 3"
    },
    "language_info": {
      "name": "python"
    }
  },
  "cells": [
    {
      "cell_type": "markdown",
      "metadata": {
        "id": "view-in-github",
        "colab_type": "text"
      },
      "source": [
        "<a href=\"https://colab.research.google.com/github/griffinsnest/example/blob/master/Griffin-Math.ipynb\" target=\"_parent\"><img src=\"https://colab.research.google.com/assets/colab-badge.svg\" alt=\"Open In Colab\"/></a>"
      ]
    },
    {
      "cell_type": "code",
      "metadata": {
        "colab": {
          "base_uri": "https://localhost:8080/"
        },
        "id": "FOoxAhS637pJ",
        "outputId": "3731b35f-4b36-4e20-f83c-dac3c613f2ae"
      },
      "source": [
        "import numpy as np\n",
        "from scipy import stats\n",
        "import matplotlib\n",
        "\n",
        "x = np.random.rand(100)\n",
        "print(x)\n",
        "\n",
        "y = np.mean(x)\n",
        "z = np.median(x)\n",
        "a = stats.mode(x)\n",
        "print(y)\n",
        "print(z)\n",
        "print(a)\n"
      ],
      "execution_count": 6,
      "outputs": [
        {
          "output_type": "stream",
          "name": "stdout",
          "text": [
            "[0.73618584 0.0337843  0.87503288 0.99555104 0.57175171 0.86654081\n",
            " 0.15380944 0.76254551 0.44864084 0.50119699 0.32405701 0.86823141\n",
            " 0.70248133 0.93937118 0.89648232 0.43764643 0.53835814 0.88789373\n",
            " 0.41838851 0.21247698 0.26847658 0.71409133 0.60208307 0.0800939\n",
            " 0.43632037 0.39059425 0.99016163 0.50685752 0.96249879 0.50532382\n",
            " 0.92627098 0.7562732  0.30185627 0.90155708 0.56478395 0.5207165\n",
            " 0.55425292 0.45802552 0.01048868 0.19690125 0.5894136  0.57056227\n",
            " 0.24952232 0.89120765 0.39661968 0.78599092 0.12965545 0.82469379\n",
            " 0.43967898 0.95371225 0.94634063 0.40526162 0.3640585  0.78921875\n",
            " 0.88132287 0.30622711 0.92515568 0.1667695  0.71621612 0.23363053\n",
            " 0.09857395 0.73693706 0.00318213 0.76804874 0.36378787 0.03804139\n",
            " 0.03223467 0.17112502 0.61969264 0.14757796 0.29359325 0.18320952\n",
            " 0.43332301 0.31502711 0.13140709 0.62792589 0.56306269 0.99461109\n",
            " 0.12221313 0.44120104 0.87091726 0.06189587 0.00991977 0.3598087\n",
            " 0.09807937 0.07170174 0.87478639 0.03629017 0.23668188 0.63454674\n",
            " 0.2688966  0.63242729 0.15212523 0.95023103 0.42068498 0.65455946\n",
            " 0.09253886 0.4665687  0.37129033 0.75332651]\n",
            "0.49485364375849983\n",
            "0.46229710933906937\n",
            "ModeResult(mode=array([0.00318213]), count=array([1]))\n"
          ]
        }
      ]
    },
    {
      "cell_type": "code",
      "metadata": {
        "id": "A9WvSgjY4cIj"
      },
      "source": [
        ""
      ],
      "execution_count": null,
      "outputs": []
    }
  ]
}